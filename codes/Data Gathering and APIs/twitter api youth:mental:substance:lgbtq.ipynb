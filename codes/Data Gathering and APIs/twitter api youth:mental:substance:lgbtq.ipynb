{
 "cells": [
  {
   "cell_type": "code",
   "execution_count": 2,
   "metadata": {},
   "outputs": [],
   "source": [
    "import snscrape.modules.twitter as sntwitter\n",
    "import pandas as pd\n",
    "import numpy as np"
   ]
  },
  {
   "cell_type": "code",
   "execution_count": 3,
   "metadata": {},
   "outputs": [],
   "source": [
    "query = 'mental health teenager lang:en until:2022-12-07 since:2021-01-01'\n",
    "tweets = []\n",
    "limit = 50\n",
    "\n",
    "for tweet in sntwitter.TwitterSearchScraper(query).get_items():\n",
    "    if len(tweets) == limit:\n",
    "        break\n",
    "    else: \n",
    "        tweets.append([tweet.content])\n",
    "mental_health_teenager = pd.DataFrame(tweets, columns = ['Content'])\n",
    "mental_health_teenager.insert(0, 'Topic', 'mental health teenager')"
   ]
  },
  {
   "cell_type": "code",
   "execution_count": 4,
   "metadata": {},
   "outputs": [],
   "source": [
    "query = 'substance use young people lang:en until:2022-12-07 since:2020-01-01'\n",
    "tweets = []\n",
    "limit = 50\n",
    "\n",
    "for tweet in sntwitter.TwitterSearchScraper(query).get_items():\n",
    "    if len(tweets) == limit:\n",
    "        break\n",
    "    else: \n",
    "        tweets.append([tweet.content])\n",
    "substance_use_genz = pd.DataFrame(tweets, columns = ['Content'])\n",
    "substance_use_genz.insert(0, 'Topic', 'substance use gen z')"
   ]
  },
  {
   "cell_type": "code",
   "execution_count": 5,
   "metadata": {},
   "outputs": [],
   "source": [
    "query = 'lgbtq youth people lang:en until:2022-12-07 since:2020-01-01'\n",
    "tweets = []\n",
    "limit = 50\n",
    "\n",
    "for tweet in sntwitter.TwitterSearchScraper(query).get_items():\n",
    "    if len(tweets) == limit:\n",
    "        break\n",
    "    else: \n",
    "        tweets.append([tweet.content])\n",
    "lgbtq_youth = pd.DataFrame(tweets, columns = ['Content'])\n",
    "lgbtq_youth.insert(0, 'Topic', 'lgbtq youth')"
   ]
  },
  {
   "cell_type": "code",
   "execution_count": 7,
   "metadata": {},
   "outputs": [],
   "source": [
    "df = pd.concat([mental_health_teenager,substance_use_genz,lgbtq_youth],ignore_index=True)\n",
    "df.to_csv('../../data/api data/twitter api sentiment data.csv')\n"
   ]
  }
 ],
 "metadata": {
  "kernelspec": {
   "display_name": "ANLY501",
   "language": "python",
   "name": "python3"
  },
  "language_info": {
   "codemirror_mode": {
    "name": "ipython",
    "version": 3
   },
   "file_extension": ".py",
   "mimetype": "text/x-python",
   "name": "python",
   "nbconvert_exporter": "python",
   "pygments_lexer": "ipython3",
   "version": "3.10.8 (main, Nov 24 2022, 08:09:04) [Clang 14.0.6 ]"
  },
  "orig_nbformat": 4,
  "vscode": {
   "interpreter": {
    "hash": "8b99509343f58b5238b82254d4f767c9c788e2a2d44c001d79838f3f64bcef43"
   }
  }
 },
 "nbformat": 4,
 "nbformat_minor": 2
}
