{
 "cells": [
  {
   "cell_type": "markdown",
   "metadata": {},
   "source": [
    "# Web-scraping Example\n",
    "\n",
    "**Source**: https://realpython.com/python-web-scraping-practical-introduction/\n",
    "\n",
    "Web scraping is the process of collecting and parsing raw data from the Web, and the Python community has come up with some pretty powerful web scraping tools.\n"
   ]
  },
  {
   "cell_type": "markdown",
   "metadata": {},
   "source": [
    "### Getting the HTML from a URL "
   ]
  },
  {
   "cell_type": "markdown",
   "metadata": {},
   "source": [
    "Collecting data from websites using an automated process is known as web scraping. Some websites explicitly forbid users from scraping their data with automated tools like the ones you’ll create in this tutorial. Websites do this for two possible reasons:\n",
    "\n",
    "* The site has a good reason to protect its data. For instance, Google Maps doesn’t let you request too many results too quickly.\n",
    "\n",
    "* Making many repeated requests to a website’s server may use up bandwidth, slowing down the website for other users and potentially overloading the server such that the website stops responding entirely.\n",
    "\n",
    "**Important**: Before using your Python skills for web scraping, you should always check your target website’s acceptable use policy to see if accessing the website with automated tools is a violation of its terms of use. Legally, web scraping against the wishes of a website is very much a gray area.\n",
    "\n",
    "Please be aware that the following techniques may be illegal when used on websites that prohibit web scraping.\n",
    "\n"
   ]
  },
  {
   "cell_type": "code",
   "execution_count": 1,
   "metadata": {},
   "outputs": [
    {
     "name": "stdout",
     "output_type": "stream",
     "text": [
      "<http.client.HTTPResponse object at 0x7f8c199ef370> <class 'http.client.HTTPResponse'>\n",
      "<!DOCTYPE html>\n",
      "<html class=\"client-nojs\" lang=\"en\" dir=\"ltr\">\n",
      "<head>\n",
      "<meta charset=\"UTF-8\"/>\n",
      "<title>Madagascar grebe - Wikipedia</title>\n",
      "<script>document.documentElement.className=\"client-js\";RLCONF={\"wgBreakFrames\":false,\"wgSeparatorTransformTable\":[\"\",\"\"],\"wgDigitTransformTable\":[\"\",\"\"],\"wgDefaultDateFormat\":\"dmy\",\"wgMonthNames\":[\"\",\"January\",\"February\",\"March\",\"April\",\"May\",\"June\",\"July\",\"August\",\"September\",\"October\",\"November\",\"December\"],\"wgRequestId\":\"4cdf589f-c78c-4ceb-b80f-5055cd6ae805\n"
     ]
    }
   ],
   "source": [
    "from urllib.request import urlopen\n",
    "url = \"https://en.wikipedia.org/wiki/Madagascar_grebe\"\n",
    "\n",
    "#urlopen() returns an HTTPResponse object:\n",
    "page = urlopen(url)\n",
    "print(page, type(page))\n",
    "\n",
    "#returns a sequence of bytes\n",
    "html_bytes = page.read()\n",
    "\n",
    "#decode the bytes to a string using UTF-8:\n",
    "html = html_bytes.decode(\"utf-8\")\n",
    "\n",
    "# print first 500 characters of HTML (more on cleaning this next module)\n",
    "print(html[0:500])"
   ]
  },
  {
   "cell_type": "code",
   "execution_count": 2,
   "metadata": {},
   "outputs": [
    {
     "data": {
      "text/plain": [
       "51611"
      ]
     },
     "execution_count": 2,
     "metadata": {},
     "output_type": "execute_result"
    }
   ],
   "source": [
    "#find the index of certain words in the string\n",
    "html.find(\"About\")"
   ]
  },
  {
   "cell_type": "markdown",
   "metadata": {},
   "source": []
  }
 ],
 "metadata": {
  "kernelspec": {
   "display_name": "Python 3.10.6 ('ANLY501')",
   "language": "python",
   "name": "python3"
  },
  "language_info": {
   "codemirror_mode": {
    "name": "ipython",
    "version": 3
   },
   "file_extension": ".py",
   "mimetype": "text/x-python",
   "name": "python",
   "nbconvert_exporter": "python",
   "pygments_lexer": "ipython3",
   "version": "3.10.6"
  },
  "orig_nbformat": 4,
  "vscode": {
   "interpreter": {
    "hash": "8b99509343f58b5238b82254d4f767c9c788e2a2d44c001d79838f3f64bcef43"
   }
  }
 },
 "nbformat": 4,
 "nbformat_minor": 2
}
