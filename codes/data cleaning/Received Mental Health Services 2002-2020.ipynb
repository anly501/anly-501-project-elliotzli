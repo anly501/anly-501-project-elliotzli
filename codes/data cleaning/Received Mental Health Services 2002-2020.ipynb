{
 "cells": [
  {
   "cell_type": "code",
   "execution_count": 1,
   "metadata": {},
   "outputs": [],
   "source": [
    "import pandas as pd\n",
    "import numpy as np\n",
    "import seaborn as sns\n",
    "import matplotlib.pyplot as plt"
   ]
  },
  {
   "cell_type": "code",
   "execution_count": 2,
   "metadata": {},
   "outputs": [],
   "source": [
    "df1 = pd.read_csv('../../data/pre-clean data/Received Mental Health Services in Past Year- Among People Aged 18 or Older; by Demographic Characteristics, Numbers in Thousands, 2002-2020.csv')\n",
    "df2 = pd.read_csv('../../data/pre-clean data/Received Mental Health Services in Past Year- Among People Aged 18 or Older; by Geographic and Socioeconomic Characteristics, Numbers in Thousands, 2002-2020.csv')\n",
    "df1.rename(columns = {'Demographic Characteristic':''}, inplace = True)\n",
    "df2.rename(columns = {'Geographic/Socioeconomic Characteristic':''}, inplace = True)\n",
    "df = pd.concat([df1,df2], ignore_index = True)\n",
    "df = df.drop(df.index[[0,1,3,6,9,13,14,18,19,24,31,32,33,34,35,40,41,42,43,44]])\n",
    "\n",
    "df = df.apply(lambda x: x.str.replace('Northeast', 'Northeast Region'))\n",
    "df = df.apply(lambda x: x.str.replace('Midwest', 'Midwest Region'))\n",
    "df = df.apply(lambda x: x.str.replace('South', 'South Region'))\n",
    "df = df.apply(lambda x: x.str.replace('West', 'West Region'))\n",
    "df = df.apply(lambda x: x.str.replace('Large Metro', 'Large Metro Resident'))\n",
    "df = df.apply(lambda x: x.str.replace('Small Metro', 'Small Metro Resident'))\n",
    "df = df.apply(lambda x: x.str.replace('Nonmetro', 'Non Metro Resident'))\n",
    "df = df.apply(lambda x: x.str.replace('50 or Older', '50+'))\n",
    "\n",
    "df = df.replace(',','', regex=True)\n",
    "df = df.apply(lambda x: x.str.replace('nc', ''))\n",
    "df = df.apply(lambda x: x.str.strip()).replace('', np.nan)\n",
    "\n",
    "df['2002'] = pd.to_numeric(df['2002']).astype('float')\n",
    "df['2003'] = pd.to_numeric(df['2003']).astype('float')\n",
    "df['2004'] = pd.to_numeric(df['2004']).astype('float')\n",
    "df['2005'] = pd.to_numeric(df['2005']).astype('float')\n",
    "df['2006'] = pd.to_numeric(df['2006']).astype('float')\n",
    "df['2007'] = pd.to_numeric(df['2007']).astype('float')\n",
    "df['2008'] = pd.to_numeric(df['2008']).astype('float')\n",
    "df['2009'] = pd.to_numeric(df['2009']).astype('float')\n",
    "df['2010'] = pd.to_numeric(df['2010']).astype('float')\n",
    "df['2011'] = pd.to_numeric(df['2011']).astype('float')\n",
    "df['2012'] = pd.to_numeric(df['2012']).astype('float')\n",
    "df['2013'] = pd.to_numeric(df['2013']).astype('float')\n",
    "df['2014'] = pd.to_numeric(df['2014']).astype('float')\n",
    "df['2015'] = pd.to_numeric(df['2015']).astype('float')\n",
    "df['2016'] = pd.to_numeric(df['2016']).astype('float')\n",
    "df['2017'] = pd.to_numeric(df['2017']).astype('float')\n",
    "df['2018'] = pd.to_numeric(df['2018']).astype('float')\n",
    "df['2019'] = pd.to_numeric(df['2019']).astype('float')\n",
    "df['2020'] = pd.to_numeric(df['2020']).astype('float')"
   ]
  },
  {
   "cell_type": "code",
   "execution_count": 3,
   "metadata": {},
   "outputs": [],
   "source": [
    "df\n",
    "df.to_csv('../../data/cleaned data/Received Mental Health Services 2002-2020.csv')\n"
   ]
  }
 ],
 "metadata": {
  "kernelspec": {
   "display_name": "Python 3.10.6 ('ANLY501')",
   "language": "python",
   "name": "python3"
  },
  "language_info": {
   "codemirror_mode": {
    "name": "ipython",
    "version": 3
   },
   "file_extension": ".py",
   "mimetype": "text/x-python",
   "name": "python",
   "nbconvert_exporter": "python",
   "pygments_lexer": "ipython3",
   "version": "3.10.8 (main, Nov 24 2022, 08:09:04) [Clang 14.0.6 ]"
  },
  "orig_nbformat": 4,
  "vscode": {
   "interpreter": {
    "hash": "8b99509343f58b5238b82254d4f767c9c788e2a2d44c001d79838f3f64bcef43"
   }
  }
 },
 "nbformat": 4,
 "nbformat_minor": 2
}
