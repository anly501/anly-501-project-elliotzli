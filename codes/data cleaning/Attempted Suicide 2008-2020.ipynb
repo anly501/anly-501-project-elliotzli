{
 "cells": [
  {
   "cell_type": "code",
   "execution_count": 1,
   "metadata": {},
   "outputs": [],
   "source": [
    "import pandas as pd\n",
    "import numpy as np\n",
    "import seaborn as sns\n",
    "import matplotlib.pyplot as plt"
   ]
  },
  {
   "cell_type": "code",
   "execution_count": 2,
   "metadata": {},
   "outputs": [],
   "source": [
    "df1 = pd.read_csv('../../data/pre-clean data/Attempted Suicide in Past Year- Among People Aged 18 or Older; by Detailed Age Category, Numbers in Thousands, 2008-2020.csv')\n",
    "df2 = pd.read_csv('../../data/pre-clean data/Attempted Suicide in Past Year- Among People Aged 18 or Older; by Demographic Characteristics, Numbers in Thousands, 2008-2020.csv')\n",
    "df1.rename(columns = {'Age Category':''}, inplace = True)\n",
    "df1 = df1.drop(df1.index[[0,1,4,5,11]])\n",
    "df1 = df1.apply(lambda x: x.str.replace('65 or Older', '65+'))\n",
    "df1 = df1.reset_index()\n",
    "df1 = df1.drop(columns=['index'])\n",
    "df2.rename(columns = {'Demographic Characteristic':''}, inplace = True)\n",
    "df2 = df2.drop(df2.index[[0,1,2,3,4,5,6,9,13,14]])\n",
    "df2 = df2.reset_index()\n",
    "df2 = df2.drop(columns=['index'])\n",
    "\n",
    "df1 = df1.replace(',','', regex=True)\n",
    "df1 = df1.apply(lambda x: x.str.replace('nc', ''))\n",
    "df1 = df1.apply(lambda x: x.str.strip()).replace('', np.nan)\n",
    "df2 = df2.replace(',','', regex=True)\n",
    "df2 = df2.apply(lambda x: x.str.replace('nc', ''))\n",
    "df2 = df2.apply(lambda x: x.str.strip()).replace('', np.nan)\n",
    "\n",
    "df1['2008'] = pd.to_numeric(df1['2008']).astype('float')\n",
    "df1['2009'] = pd.to_numeric(df1['2009']).astype('float')\n",
    "df1['2010'] = pd.to_numeric(df1['2010']).astype('float')\n",
    "df1['2011'] = pd.to_numeric(df1['2011']).astype('float')\n",
    "df1['2012'] = pd.to_numeric(df1['2012']).astype('float')\n",
    "df1['2013'] = pd.to_numeric(df1['2013']).astype('float')\n",
    "df1['2014'] = pd.to_numeric(df1['2014']).astype('float')\n",
    "df1['2015'] = pd.to_numeric(df1['2015']).astype('float')\n",
    "df1['2016'] = pd.to_numeric(df1['2016']).astype('float')\n",
    "df1['2017'] = pd.to_numeric(df1['2017']).astype('float')\n",
    "df1['2018'] = pd.to_numeric(df1['2018']).astype('float')\n",
    "df1['2019'] = pd.to_numeric(df1['2019']).astype('float')\n",
    "df1['2020'] = pd.to_numeric(df1['2020']).astype('float')\n",
    "\n",
    "df2['2008'] = pd.to_numeric(df2['2008']).astype('float')\n",
    "df2['2009'] = pd.to_numeric(df2['2009']).astype('float')\n",
    "df2['2010'] = pd.to_numeric(df2['2010']).astype('float')\n",
    "df2['2011'] = pd.to_numeric(df2['2011']).astype('float')\n",
    "df2['2012'] = pd.to_numeric(df2['2012']).astype('float')\n",
    "df2['2013'] = pd.to_numeric(df2['2013']).astype('float')\n",
    "df2['2014'] = pd.to_numeric(df2['2014']).astype('float')\n",
    "df2['2015'] = pd.to_numeric(df2['2015']).astype('float')\n",
    "df2['2016'] = pd.to_numeric(df2['2016']).astype('float')\n",
    "df2['2017'] = pd.to_numeric(df2['2017']).astype('float')\n",
    "df2['2018'] = pd.to_numeric(df2['2018']).astype('float')\n",
    "df2['2019'] = pd.to_numeric(df2['2019']).astype('float')\n",
    "df2['2020'] = pd.to_numeric(df2['2020']).astype('float')"
   ]
  },
  {
   "cell_type": "code",
   "execution_count": 4,
   "metadata": {},
   "outputs": [],
   "source": [
    "df1\n",
    "df1.to_csv('../../data/cleaned data/Attempted Suicide 2008-2020 Age')"
   ]
  },
  {
   "cell_type": "code",
   "execution_count": 5,
   "metadata": {},
   "outputs": [],
   "source": [
    "df2\n",
    "df2.to_csv('../../data/cleaned data/Attempted Suicide 2008-2020 Demo')"
   ]
  }
 ],
 "metadata": {
  "kernelspec": {
   "display_name": "Python 3.10.6 ('ANLY501')",
   "language": "python",
   "name": "python3"
  },
  "language_info": {
   "codemirror_mode": {
    "name": "ipython",
    "version": 3
   },
   "file_extension": ".py",
   "mimetype": "text/x-python",
   "name": "python",
   "nbconvert_exporter": "python",
   "pygments_lexer": "ipython3",
   "version": "3.10.8"
  },
  "orig_nbformat": 4,
  "vscode": {
   "interpreter": {
    "hash": "8b99509343f58b5238b82254d4f767c9c788e2a2d44c001d79838f3f64bcef43"
   }
  }
 },
 "nbformat": 4,
 "nbformat_minor": 2
}
