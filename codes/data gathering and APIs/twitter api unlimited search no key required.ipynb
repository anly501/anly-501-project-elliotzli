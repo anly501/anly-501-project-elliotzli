{
 "cells": [
  {
   "cell_type": "code",
   "execution_count": 1,
   "metadata": {},
   "outputs": [],
   "source": [
    "import snscrape.modules.twitter as sntwitter\n",
    "import pandas as pd"
   ]
  },
  {
   "cell_type": "code",
   "execution_count": null,
   "metadata": {},
   "outputs": [],
   "source": [
    "query = 'mental health teenager lang:en until:2022-12-07 since:2021-01-01'\n",
    "tweets = []\n",
    "limit = 50\n",
    "\n",
    "for tweet in sntwitter.TwitterSearchScraper(query).get_items():\n",
    "    # print(vars(tweet))\n",
    "    # break\n",
    "\n",
    "    if len(tweets) == limit:\n",
    "        break\n",
    "    else: \n",
    "        tweets.append([tweet.date,tweet.user.username,tweet.content])\n",
    "\n",
    "df = pd.DataFrame(tweets, columns = ['Date','Username','Content']"
   ]
  },
  {
   "cell_type": "code",
   "execution_count": 5,
   "metadata": {},
   "outputs": [
    {
     "name": "stdout",
     "output_type": "stream",
     "text": [
      "                         Date         Username  \\\n",
      "0   2022-12-06 07:07:52+00:00  decolonialherzl   \n",
      "1   2022-12-05 00:00:14+00:00      CTVAtlantic   \n",
      "2   2022-12-04 20:40:49+00:00     henryFine100   \n",
      "3   2022-12-03 21:10:57+00:00        Zackbonko   \n",
      "4   2022-12-03 16:26:47+00:00     MadScientist   \n",
      "..                        ...              ...   \n",
      "966 2021-01-08 11:03:34+00:00         TomJ8899   \n",
      "967 2021-01-06 08:29:22+00:00   HighProfileLtd   \n",
      "968 2021-01-04 15:30:00+00:00        FactPoint   \n",
      "969 2021-01-02 19:39:58+00:00     InquilineKea   \n",
      "970 2021-01-02 16:25:34+00:00        JasonDCal   \n",
      "\n",
      "                                               Content  \n",
      "0    @RichardHanania Telling depressed teenagers th...  \n",
      "1    Family and friends of a N.B. teenager who died...  \n",
      "2    @bennyjohnson @Timcast @joerogan No, this woma...  \n",
      "3    Finally getting my mental checked out on Monda...  \n",
      "4    @constanceahath Well timed given the Avengers ...  \n",
      "..                                                 ...  \n",
      "966  @piersmorgan Yes, people dying &amp; losing lo...  \n",
      "967  @JohnBradbury12A @emmakennytv My 19 year old S...  \n",
      "968  Most social media negatively impact the mental...  \n",
      "969  @nickcammarata \" Given that teenagers have a h...  \n",
      "970  @ekuserefu Debatable. We aren’t aware of the m...  \n",
      "\n",
      "[971 rows x 3 columns]\n"
     ]
    }
   ],
   "source": [
    "print(df)"
   ]
  }
 ],
 "metadata": {
  "kernelspec": {
   "display_name": "Python 3.10.8 ('ANLY501')",
   "language": "python",
   "name": "python3"
  },
  "language_info": {
   "codemirror_mode": {
    "name": "ipython",
    "version": 3
   },
   "file_extension": ".py",
   "mimetype": "text/x-python",
   "name": "python",
   "nbconvert_exporter": "python",
   "pygments_lexer": "ipython3",
   "version": "3.10.8 (main, Nov 24 2022, 08:09:04) [Clang 14.0.6 ]"
  },
  "orig_nbformat": 4,
  "vscode": {
   "interpreter": {
    "hash": "8b99509343f58b5238b82254d4f767c9c788e2a2d44c001d79838f3f64bcef43"
   }
  }
 },
 "nbformat": 4,
 "nbformat_minor": 2
}
