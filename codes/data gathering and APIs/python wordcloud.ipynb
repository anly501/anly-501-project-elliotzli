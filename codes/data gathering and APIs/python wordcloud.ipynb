{
 "cells": [
  {
   "cell_type": "markdown",
   "metadata": {},
   "source": [
    "## Word cloud example\n",
    "\n",
    "Search over composite topics "
   ]
  },
  {
   "cell_type": "code",
   "execution_count": 2,
   "metadata": {},
   "outputs": [],
   "source": [
    "import wikipedia"
   ]
  },
  {
   "cell_type": "code",
   "execution_count": 2,
   "metadata": {},
   "outputs": [
    {
     "ename": "SyntaxError",
     "evalue": "unterminated string literal (detected at line 29) (1298741703.py, line 29)",
     "output_type": "error",
     "traceback": [
      "\u001b[0;36m  Cell \u001b[0;32mIn [2], line 29\u001b[0;36m\u001b[0m\n\u001b[0;31m    text='full_text\u001b[0m\n\u001b[0m         ^\u001b[0m\n\u001b[0;31mSyntaxError\u001b[0m\u001b[0;31m:\u001b[0m unterminated string literal (detected at line 29)\n"
     ]
    }
   ],
   "source": [
    "# MODIFIED FROM \n",
    "# https://towardsdatascience.com/simple-wordcloud-in-python-2ae54a9f58e5\n",
    "def generate_word_cloud(my_text):\n",
    "    from wordcloud import WordCloud, STOPWORDS\n",
    "    import matplotlib.pyplot as plt\n",
    "    # exit()\n",
    "    # Import package\n",
    "    # Define a function to plot word cloud\n",
    "    def plot_cloud(wordcloud):\n",
    "        # Set figure size\n",
    "        plt.figure(figsize=(40, 30))\n",
    "        # Display image\n",
    "        plt.imshow(wordcloud) \n",
    "        # No axis details\n",
    "        plt.axis(\"off\");\n",
    "\n",
    "    # Generate word cloud\n",
    "    wordcloud = WordCloud(\n",
    "        width = 3000,\n",
    "        height = 2000, \n",
    "        random_state=1, \n",
    "        background_color='salmon', \n",
    "        colormap='Pastel1', \n",
    "        collocations=False,\n",
    "        stopwords = STOPWORDS).generate(my_text)\n",
    "    plot_cloud(wordcloud)\n",
    "    plt.show()\n",
    "\n",
    "text='im your father'\n",
    "\n",
    "generate_word_cloud(text)"
   ]
  }
 ],
 "metadata": {
  "kernelspec": {
   "display_name": "Python 3.10.6 ('ANLY501')",
   "language": "python",
   "name": "python3"
  },
  "language_info": {
   "codemirror_mode": {
    "name": "ipython",
    "version": 3
   },
   "file_extension": ".py",
   "mimetype": "text/x-python",
   "name": "python",
   "nbconvert_exporter": "python",
   "pygments_lexer": "ipython3",
   "version": "3.10.6"
  },
  "orig_nbformat": 4,
  "vscode": {
   "interpreter": {
    "hash": "8b99509343f58b5238b82254d4f767c9c788e2a2d44c001d79838f3f64bcef43"
   }
  }
 },
 "nbformat": 4,
 "nbformat_minor": 2
}
