{
 "cells": [
  {
   "attachments": {},
   "cell_type": "markdown",
   "metadata": {},
   "source": [
    "Library"
   ]
  },
  {
   "cell_type": "code",
   "execution_count": 3,
   "metadata": {},
   "outputs": [],
   "source": [
    "import tweepy\n",
    "import json\n",
    "import pandas as pd"
   ]
  },
  {
   "attachments": {},
   "cell_type": "markdown",
   "metadata": {},
   "source": [
    "Tweet Harvest"
   ]
  },
  {
   "cell_type": "code",
   "execution_count": 22,
   "metadata": {},
   "outputs": [],
   "source": [
    "credentials = \"../../../Desktop/Georgetown/twitter-api-keys.json\"\n",
    "with open(credentials, \"r\") as keys:\n",
    "    api_tokens = json.load(keys)\n",
    "\n",
    "# Grab the API keys:\n",
    "API_KEY = api_tokens[\"consumer_key\"]\n",
    "API_SECRET = api_tokens[\"consumer_secret\"]\n",
    "BEARER_TOKEN = api_tokens[\"bearer_token\"]\n",
    "ACCESS_TOKEN = api_tokens[\"access_token\"]\n",
    "ACCESS_SECRET = api_tokens[\"access_token_secret\"]\n",
    "\n",
    "auth = tweepy.OAuthHandler(API_KEY,API_SECRET)\n",
    "auth.set_access_token(ACCESS_TOKEN,ACCESS_SECRET)\n",
    "\n",
    "api = tweepy.API(auth)\n",
    "\n",
    "#homepage public tweets\n",
    "public_tweets = api.search_tweets(q='mental health')\n",
    "#print(public_tweets)"
   ]
  },
  {
   "attachments": {},
   "cell_type": "markdown",
   "metadata": {},
   "source": [
    "Save tweets to csv"
   ]
  },
  {
   "cell_type": "code",
   "execution_count": 23,
   "metadata": {},
   "outputs": [
    {
     "name": "stdout",
     "output_type": "stream",
     "text": [
      "                        Time             User  \\\n",
      "0  2022-12-08 03:56:44+00:00    Peggy88331109   \n",
      "1  2022-12-08 03:56:41+00:00          swaymxn   \n",
      "2  2022-12-08 03:56:40+00:00  Kishand80305664   \n",
      "3  2022-12-08 03:56:37+00:00         Kay_wise   \n",
      "4  2022-12-08 03:56:35+00:00        afrodykee   \n",
      "5  2022-12-08 03:56:34+00:00  Maintenonmadame   \n",
      "6  2022-12-08 03:56:33+00:00         ZaniB___   \n",
      "7  2022-12-08 03:56:33+00:00  RealKingArthur3   \n",
      "8  2022-12-08 03:56:32+00:00     mirroredankh   \n",
      "9  2022-12-08 03:56:32+00:00        ddalgi_kv   \n",
      "10 2022-12-08 03:56:23+00:00   SatansIiIwhore   \n",
      "11 2022-12-08 03:56:23+00:00  CandyisDandy100   \n",
      "12 2022-12-08 03:56:21+00:00  jackiejfrancois   \n",
      "13 2022-12-08 03:56:18+00:00  Maintenonmadame   \n",
      "14 2022-12-08 03:56:17+00:00           jian1e   \n",
      "\n",
      "                                                Tweet  \n",
      "0   Some might be thinking, “It’s Ted Cruz’s daugh...  \n",
      "1   @mark_copeland @SlafCaufZki @JFreshHockey This...  \n",
      "2   RT @unicef_nepal: “It’s not just things that y...  \n",
      "3   RT @HC_Richardson: Important. https://t.co/pIT...  \n",
      "4   RT @IsabellaScar2: Don’t call yourself a “ment...  \n",
      "5   RT @StrbrySeedCons: @ItsEmilyKaty As a mother ...  \n",
      "6   RT @1xlinna: i wish men were more open about t...  \n",
      "7   RT @olafimihanoshin: Praying that Ben Gordon g...  \n",
      "8   RT @hansmollman: Obviously great we have lesse...  \n",
      "9   RT @sugamusicals: \"I got into Agust D, looking...  \n",
      "10  RT @_Pammy_DS_: Distancing yourself from shit ...  \n",
      "11  RT @AmadorBatten: @CandyisDandy100 @Cowboymike...  \n",
      "12  RT @Sussex98: Meghan talking about Mental Heal...  \n",
      "13  RT @ItsEmilyKaty: Today I somehow graduated wi...  \n",
      "14  RT @brujabitchh: SCORPIO | FULL MOON 8H:\\n\\n- ...  \n"
     ]
    }
   ],
   "source": [
    "columns = ['Time','User','Tweet']\n",
    "data = []\n",
    "for tweet in public_tweets:\n",
    "    data.append([tweet.created_at,tweet.user.screen_name,tweet.text])\n",
    "\n",
    "df = pd.DataFrame(data,columns=columns)\n",
    "print(df)\n",
    "\n",
    "#df.to_csv('')"
   ]
  },
  {
   "attachments": {},
   "cell_type": "markdown",
   "metadata": {},
   "source": [
    "Unlimited Tweets"
   ]
  },
  {
   "cell_type": "code",
   "execution_count": null,
   "metadata": {},
   "outputs": [],
   "source": [
    "import snscrape.modules.twitter as sntwitter\n",
    "import pandas as pd"
   ]
  },
  {
   "cell_type": "code",
   "execution_count": null,
   "metadata": {},
   "outputs": [],
   "source": [
    "query = 'python'\n",
    "tweets = []\n",
    "limit = 100\n",
    "\n",
    "for tweet in sntwitter.TwitterSearchScraper(query).get_items():\n",
    "    # print(vars(tweet))\n",
    "    # break\n",
    "\n",
    "    if len(tweets) == limit:\n",
    "        break\n",
    "    else: \n",
    "        tweets.append([tweet.date,tweet.user.username,tweet.content])\n",
    "\n",
    "df = pd.DataFrame(tweets, columns = ['Date','Username','Content'])"
   ]
  },
  {
   "cell_type": "code",
   "execution_count": null,
   "metadata": {},
   "outputs": [],
   "source": []
  }
 ],
 "metadata": {
  "kernelspec": {
   "display_name": "Python 3.10.8 ('ANLY501')",
   "language": "python",
   "name": "python3"
  },
  "language_info": {
   "codemirror_mode": {
    "name": "ipython",
    "version": 3
   },
   "file_extension": ".py",
   "mimetype": "text/x-python",
   "name": "python",
   "nbconvert_exporter": "python",
   "pygments_lexer": "ipython3",
   "version": "3.10.8"
  },
  "orig_nbformat": 4,
  "vscode": {
   "interpreter": {
    "hash": "8b99509343f58b5238b82254d4f767c9c788e2a2d44c001d79838f3f64bcef43"
   }
  }
 },
 "nbformat": 4,
 "nbformat_minor": 2
}
