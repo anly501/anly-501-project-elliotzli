{
 "cells": [
  {
   "cell_type": "code",
   "execution_count": 1,
   "metadata": {},
   "outputs": [],
   "source": [
    "import pandas as pd\n",
    "import numpy as np\n",
    "import seaborn as sns\n",
    "import matplotlib.pyplot as plt"
   ]
  },
  {
   "cell_type": "code",
   "execution_count": 3,
   "metadata": {},
   "outputs": [],
   "source": [
    "df1 = pd.read_csv('../../data/pre-clean data/Marijuana Use in Past Year- Among People Aged 12 or Older; by Age Group and Demographic Characteristics, Numbers in Thousands, 2019 and 2020.csv')\n",
    "df1.rename(columns = {'Unnamed: 0':'attribute'}, inplace = True)\n",
    "df1.rename(columns = {'Aged':'Y2019_Age12_17_marijuana'}, inplace = True)\n",
    "df1.rename(columns = {'Aged.1':'Y2020_Age12_17_marijuana'}, inplace = True)\n",
    "df1.rename(columns = {'Aged.2':'Y2019_Age18_25_marijuana'}, inplace = True)\n",
    "df1.rename(columns = {'Aged.3':'Y2020_Age18_25_marijuana'}, inplace = True)\n",
    "df1.rename(columns = {'Aged 26+':'Y2019_Age26+_marijuana'}, inplace = True)\n",
    "df1.rename(columns = {'Aged 26+.1':'Y2020_Age26+_marijuana'}, inplace = True)\n",
    "df1 = df1.drop(columns=['Aged 12+','Aged 12+.1','Aged 18+','Aged 18+.1'])\n",
    "df1 = df1.drop(df1.index[[0,1,2,3,6,10,11,15,20,24]])\n",
    "df1 = df1.replace(',','', regex=True)\n",
    "df1 = df1.apply(lambda x: x.str.replace('da', ''))\n",
    "df1 = df1.apply(lambda x: x.str.strip()).replace('', np.nan)\n",
    "df1 = df1.apply(lambda x: x.str.replace('Full-Time', 'Full-Time Employment'))\n",
    "df1 = df1.apply(lambda x: x.str.replace('Part-Time', 'Part-Time Employment'))\n",
    "df1['Y2019_Age12_17_marijuana'] = pd.to_numeric(df1['Y2019_Age12_17_marijuana'])\n",
    "df1['Y2020_Age12_17_marijuana'] = pd.to_numeric(df1['Y2020_Age12_17_marijuana'])\n",
    "df1['Y2019_Age18_25_marijuana'] = pd.to_numeric(df1['Y2019_Age18_25_marijuana']).astype('float')\n",
    "df1['Y2020_Age18_25_marijuana'] = pd.to_numeric(df1['Y2020_Age18_25_marijuana']).astype('float')\n",
    "df1['Y2019_Age26+_marijuana'] = pd.to_numeric(df1['Y2019_Age26+_marijuana']).astype('float')\n",
    "df1['Y2020_Age26+_marijuana'] = pd.to_numeric(df1['Y2020_Age26+_marijuana']).astype('float')\n",
    "\n",
    "df2 = pd.read_csv('../../data/pre-clean data/Alcohol Use in Past Year- Among People Aged 12 or Older; by Age Group and Demographic Characteristics, Numbers in Thousands, 2019 and 2020.csv')\n",
    "df2.rename(columns = {'Unnamed: 0':'attribute'}, inplace = True)\n",
    "df2.rename(columns = {'Aged':'Y2019_Age12_17_alcohol'}, inplace = True)\n",
    "df2.rename(columns = {'Aged.1':'Y2020_Age12_17_alcohol'}, inplace = True)\n",
    "df2.rename(columns = {'Aged.2':'Y2019_Age18_25_alcohol'}, inplace = True)\n",
    "df2.rename(columns = {'Aged.3':'Y2020_Age18_25_alcohol'}, inplace = True)\n",
    "df2.rename(columns = {'Aged 26+':'Y2019_Age26+_alcohol'}, inplace = True)\n",
    "df2.rename(columns = {'Aged 26+.1':'Y2020_Age26+_alcohol'}, inplace = True)\n",
    "df2 = df2.drop(columns=['Aged 12+','Aged 12+.1','Aged 18+','Aged 18+.1'])\n",
    "df2 = df2.drop(df2.index[[0,1,2,3,6,10,11,15,20,24]])\n",
    "df2 = df2.replace(',','', regex=True)\n",
    "df2 = df2.apply(lambda x: x.str.replace('da', ''))\n",
    "df2 = df2.apply(lambda x: x.str.strip()).replace('', np.nan)\n",
    "df2 = df2.apply(lambda x: x.str.replace('Full-Time', 'Full-Time Employment'))\n",
    "df2 = df2.apply(lambda x: x.str.replace('Part-Time', 'Part-Time Employment'))\n",
    "df2['Y2019_Age12_17_alcohol'] = pd.to_numeric(df2['Y2019_Age12_17_alcohol'])\n",
    "df2['Y2020_Age12_17_alcohol'] = pd.to_numeric(df2['Y2020_Age12_17_alcohol'])\n",
    "df2['Y2019_Age18_25_alcohol'] = pd.to_numeric(df2['Y2019_Age18_25_alcohol']).astype('float')\n",
    "df2['Y2020_Age18_25_alcohol'] = pd.to_numeric(df2['Y2020_Age18_25_alcohol']).astype('float')\n",
    "df2['Y2019_Age26+_alcohol'] = pd.to_numeric(df2['Y2019_Age26+_alcohol']).astype('float')\n",
    "df2['Y2020_Age26+_alcohol'] = pd.to_numeric(df2['Y2020_Age26+_alcohol']).astype('float')\n",
    "\n",
    "df3 = pd.read_csv('../../data/pre-clean data/Nicotine Vaping in Past Year- Among People Aged 12 or Older; by Age Group and Demographic Characteristics, Numbers in Thousands, 2020.csv')\n",
    "df3.rename(columns = {'Unnamed: 0':'attribute'}, inplace = True)\n",
    "df3.rename(columns = {'Aged 12-17':'Y2020_Age12_17_vaping'}, inplace = True)\n",
    "df3.rename(columns = {'Aged 18-25':'Y2020_Age18_25_vaping'}, inplace = True)\n",
    "df3.rename(columns = {'Aged 26+':'Y2020_Age26+_vaping'}, inplace = True)\n",
    "df3 = df3.drop(columns=['Aged 12+','Aged 18+'])\n",
    "df3 = df3.drop(df3.index[[0,1,4,8,9,13,18,22]])\n",
    "df3 = df3.replace(',','', regex=True)\n",
    "df3 = df3.apply(lambda x: x.str.replace('da', ''))\n",
    "df3 = df3.apply(lambda x: x.str.strip()).replace('', np.nan)\n",
    "df3 = df3.apply(lambda x: x.str.replace('Full-Time', 'Full-Time Employment'))\n",
    "df3 = df3.apply(lambda x: x.str.replace('Part-Time', 'Part-Time Employment'))\n",
    "df3['Y2020_Age12_17_vaping'] = pd.to_numeric(df3['Y2020_Age12_17_vaping']).astype('float')\n",
    "df3['Y2020_Age18_25_vaping'] = pd.to_numeric(df3['Y2020_Age18_25_vaping']).astype('float')\n",
    "df3['Y2020_Age26+_vaping'] = pd.to_numeric(df3['Y2020_Age26+_vaping']).astype('float')\n",
    "\n",
    "df4 = df1.merge(df2,how='left')\n",
    "df = df4.merge(df3,how='left')"
   ]
  },
  {
   "cell_type": "code",
   "execution_count": 5,
   "metadata": {},
   "outputs": [],
   "source": [
    "df\n",
    "df.to_csv('../../data/cleaned data/Marijuana Alcohol Nicotine Use 2019-2020')"
   ]
  }
 ],
 "metadata": {
  "kernelspec": {
   "display_name": "Python 3.10.6 ('ANLY501')",
   "language": "python",
   "name": "python3"
  },
  "language_info": {
   "codemirror_mode": {
    "name": "ipython",
    "version": 3
   },
   "file_extension": ".py",
   "mimetype": "text/x-python",
   "name": "python",
   "nbconvert_exporter": "python",
   "pygments_lexer": "ipython3",
   "version": "3.10.8"
  },
  "orig_nbformat": 4,
  "vscode": {
   "interpreter": {
    "hash": "8b99509343f58b5238b82254d4f767c9c788e2a2d44c001d79838f3f64bcef43"
   }
  }
 },
 "nbformat": 4,
 "nbformat_minor": 2
}
