{
 "cells": [
  {
   "cell_type": "code",
   "execution_count": 1,
   "metadata": {},
   "outputs": [],
   "source": [
    "import pandas as pd\n",
    "import numpy as np\n",
    "import seaborn as sns\n",
    "import matplotlib.pyplot as plt"
   ]
  },
  {
   "cell_type": "code",
   "execution_count": 2,
   "metadata": {},
   "outputs": [
    {
     "name": "stderr",
     "output_type": "stream",
     "text": [
      "/var/folders/bl/052c3hfs443637kyktp_jzjm0000gn/T/ipykernel_4240/511384647.py:17: FutureWarning: The default value of regex will change from True to False in a future version. In addition, single character regular expressions will *not* be treated as literal strings when regex=True.\n",
      "  df = df.apply(lambda x: x.str.replace('*', ''))\n"
     ]
    }
   ],
   "source": [
    "df1 = pd.read_csv('../../data/pre-clean data/Illicit Drug Use 2019-2020 Aged 12 or Older Age Group and Demographic Characteristics.csv')\n",
    "df2 = pd.read_csv('../../data/pre-clean data/Illicit Drug Use 2019-2020 Aged 12 or Older Age Group and Geographic and Socioeconomic Characteristics.csv')\n",
    "df = pd.concat([df1,df2], ignore_index = True)\n",
    "\n",
    "df.rename(columns = {'Unnamed: 0':'attribute'}, inplace = True)\n",
    "df.rename(columns = {'Aged':'Y2019_Age12_17'}, inplace = True)\n",
    "df.rename(columns = {'Aged.1':'Y2020_Age12_17'}, inplace = True)\n",
    "df.rename(columns = {'Aged.2':'Y2019_Age18_25'}, inplace = True)\n",
    "df.rename(columns = {'Aged.3':'Y2020_Age18_25'}, inplace = True)\n",
    "df.rename(columns = {'Aged 26+':'Y2019_Age26+'}, inplace = True)\n",
    "df.rename(columns = {'Aged 26+.1':'Y2020_Age26+'}, inplace = True)\n",
    "\n",
    "df = df.drop(columns=['Aged 12+','Aged 12+.1','Aged 18+','Aged 18+.1'])\n",
    "df = df.drop(df.index[[0,1,2,3,6,10,11,15,20,24,25,26,27,28,33,40,41,42,43,44,45,46,47,48]])\n",
    "\n",
    "df = df.replace(',','', regex=True)\n",
    "df = df.apply(lambda x: x.str.replace('*', ''))\n",
    "df = df.apply(lambda x: x.str.replace('da', ''))\n",
    "df = df.apply(lambda x: x.str.strip()).replace('', np.nan)\n",
    "df = df.apply(lambda x: x.str.replace('Full-Time', 'Full-Time Employment'))\n",
    "df = df.apply(lambda x: x.str.replace('Part-Time', 'Part-Time Employment'))\n",
    "df = df.apply(lambda x: x.str.replace('Northeast', 'Northeast Region'))\n",
    "df = df.apply(lambda x: x.str.replace('Midwest', 'Midwest Region'))\n",
    "df = df.apply(lambda x: x.str.replace('South', 'South Region'))\n",
    "df = df.apply(lambda x: x.str.replace('West', 'West Region'))\n",
    "df = df.apply(lambda x: x.str.replace('Large Metro', 'Large Metro Resident'))\n",
    "df = df.apply(lambda x: x.str.replace('Small Metro', 'Small Metro Resident'))\n",
    "df = df.apply(lambda x: x.str.replace('Nonmetro', 'Non Metro Resident'))\n",
    "\n",
    "\n",
    "\n",
    "df['Y2019_Age12_17'] = pd.to_numeric(df['Y2019_Age12_17'])\n",
    "df['Y2020_Age12_17'] = pd.to_numeric(df['Y2020_Age12_17'])\n",
    "df['Y2019_Age18_25'] = pd.to_numeric(df['Y2019_Age18_25']).astype('float')\n",
    "df['Y2020_Age18_25'] = pd.to_numeric(df['Y2020_Age18_25']).astype('float')\n",
    "df['Y2019_Age26+'] = pd.to_numeric(df['Y2019_Age26+']).astype('float')\n",
    "df['Y2020_Age26+'] = pd.to_numeric(df['Y2020_Age26+']).astype('float')"
   ]
  },
  {
   "cell_type": "code",
   "execution_count": 4,
   "metadata": {},
   "outputs": [],
   "source": [
    "df\n",
    "df.to_csv('../../data/cleaned data/Illicit Drug Use 2019-2020.csv')"
   ]
  }
 ],
 "metadata": {
  "kernelspec": {
   "display_name": "Python 3",
   "language": "python",
   "name": "python3"
  },
  "language_info": {
   "codemirror_mode": {
    "name": "ipython",
    "version": 3
   },
   "file_extension": ".py",
   "mimetype": "text/x-python",
   "name": "python",
   "nbconvert_exporter": "python",
   "pygments_lexer": "ipython3",
   "version": "3.11.0 (v3.11.0:deaf509e8f, Oct 24 2022, 14:43:23) [Clang 13.0.0 (clang-1300.0.29.30)]"
  },
  "orig_nbformat": 4,
  "vscode": {
   "interpreter": {
    "hash": "aee8b7b246df8f9039afb4144a1f6fd8d2ca17a180786b69acc140d282b71a49"
   }
  }
 },
 "nbformat": 4,
 "nbformat_minor": 2
}
