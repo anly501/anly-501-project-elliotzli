{
 "cells": [
  {
   "cell_type": "markdown",
   "metadata": {},
   "source": [
    "### Count-Vectorizer basic example\n",
    "\n",
    "Author: Dr. Hickman "
   ]
  },
  {
   "cell_type": "code",
   "execution_count": 1,
   "metadata": {},
   "outputs": [],
   "source": [
    "### IMPORT PACKAGES \n",
    "from sklearn.feature_extraction.text import CountVectorizer\n",
    "import numpy as np\n"
   ]
  },
  {
   "cell_type": "code",
   "execution_count": 2,
   "metadata": {},
   "outputs": [],
   "source": [
    "### DEFINE A TOY CORPUS \n",
    "corpus = [\n",
    "    'This is the first document.',\n",
    "    'This document is the second document.',\n",
    "    'And this is the third one, test, test, test',\n",
    "    'Is this the first document? test test',\n",
    "]\n"
   ]
  },
  {
   "cell_type": "code",
   "execution_count": 3,
   "metadata": {},
   "outputs": [],
   "source": [
    "# INITIALIZE COUNT VECTORIZER\n",
    "vectorizer=CountVectorizer()   \n"
   ]
  },
  {
   "cell_type": "code",
   "execution_count": 4,
   "metadata": {},
   "outputs": [
    {
     "name": "stdout",
     "output_type": "stream",
     "text": [
      "<class 'scipy.sparse._csr.csr_matrix'>\n"
     ]
    }
   ],
   "source": [
    "# RUN COUNT VECTORIZER ON OUR COURPUS \n",
    "Xs  =  vectorizer.fit_transform(corpus)   \n",
    "print(type(Xs))"
   ]
  },
  {
   "cell_type": "code",
   "execution_count": 5,
   "metadata": {},
   "outputs": [
    {
     "name": "stdout",
     "output_type": "stream",
     "text": [
      "vocabulary =  {'this': 9, 'is': 3, 'the': 7, 'first': 2, 'document': 1, 'second': 5, 'and': 0, 'third': 8, 'one': 4, 'test': 6}\n",
      "stop words = None\n",
      "col_names= ['and' 'document' 'first' 'is' 'one' 'second' 'test' 'the' 'third' 'this']\n"
     ]
    }
   ],
   "source": [
    "### EXPLORE THE OBJECT ATTRIBUTES \n",
    "\n",
    "# VOCABULARY DICTIONARY\n",
    "print(\"vocabulary = \",vectorizer.vocabulary_)   \n",
    "\n",
    "# STOP WORDS \n",
    "print(\"stop words =\", vectorizer.stop_words)\n",
    "\n",
    "# col_names\n",
    "col_names=vectorizer.get_feature_names_out()\n",
    "print(\"col_names=\",col_names)\n"
   ]
  },
  {
   "cell_type": "code",
   "execution_count": 6,
   "metadata": {},
   "outputs": [
    {
     "name": "stdout",
     "output_type": "stream",
     "text": [
      "SPARSE MATRIX\n",
      "   (0, 9)\t1\n",
      "  (0, 3)\t1\n",
      "  (0, 7)\t1\n",
      "  (0, 2)\t1\n",
      "  (0, 1)\t1\n",
      "  (1, 9)\t1\n",
      "  (1, 3)\t1\n",
      "  (1, 7)\t1\n",
      "  (1, 1)\t2\n",
      "  (1, 5)\t1\n",
      "  (2, 9)\t1\n",
      "  (2, 3)\t1\n",
      "  (2, 7)\t1\n",
      "  (2, 0)\t1\n",
      "  (2, 8)\t1\n",
      "  (2, 4)\t1\n",
      "  (2, 6)\t3\n",
      "  (3, 9)\t1\n",
      "  (3, 3)\t1\n",
      "  (3, 7)\t1\n",
      "  (3, 2)\t1\n",
      "  (3, 1)\t1\n",
      "  (3, 6)\t2\n"
     ]
    }
   ],
   "source": [
    "# X  =  vectorizer.fit_transform(corpus)   --> returns a SPARSE document term frequency matrix\n",
    "print(\"SPARSE MATRIX\\n\",Xs)"
   ]
  },
  {
   "cell_type": "code",
   "execution_count": 7,
   "metadata": {},
   "outputs": [
    {
     "name": "stdout",
     "output_type": "stream",
     "text": [
      "CORPUS= ['This is the first document.', 'This document is the second document.', 'And this is the third one, test, test, test', 'Is this the first document? test test']\n",
      "COLUMN NAMES= ['and' 'document' 'first' 'is' 'one' 'second' 'test' 'the' 'third' 'this']\n",
      "DOCUMENT WORD COUNTS\n",
      "SPARSE MATRIX\n",
      " [[0 1 1 1 0 0 0 1 0 1]\n",
      " [0 2 0 1 0 1 0 1 0 1]\n",
      " [1 0 0 1 1 0 3 1 1 1]\n",
      " [0 1 1 1 0 0 2 1 0 1]]\n"
     ]
    }
   ],
   "source": [
    "#CONVERT TO DENSE MATRIX\n",
    "X=np.array(Xs.todense())\n",
    "print(\"CORPUS=\",corpus)\n",
    "print(\"COLUMN NAMES=\",col_names)\n",
    "print(\"DOCUMENT WORD COUNTS\")\n",
    "print(\"SPARSE MATRIX\\n\",X)                        \n"
   ]
  },
  {
   "cell_type": "code",
   "execution_count": 8,
   "metadata": {},
   "outputs": [
    {
     "name": "stdout",
     "output_type": "stream",
     "text": [
      "COLUMN NAMES= ['and' 'document' 'first' 'is' 'one' 'second' 'test' 'the' 'third' 'this']\n",
      "CORPUS WIDE WORD COUNTS: [1 4 2 4 1 1 5 4 1 4]\n",
      "WORDS PER DOCUMENT:\n",
      " [5 6 9 7]\n"
     ]
    }
   ],
   "source": [
    "print(\"COLUMN NAMES=\",col_names)\n",
    "print(\"CORPUS WIDE WORD COUNTS:\",np.sum(X,axis=0))\n",
    "print(\"WORDS PER DOCUMENT:\\n\",np.sum(X,axis=1))"
   ]
  },
  {
   "cell_type": "code",
   "execution_count": 9,
   "metadata": {},
   "outputs": [
    {
     "name": "stdout",
     "output_type": "stream",
     "text": [
      "MAX COUNT: [1 2 1 1 1 1 3 1 1 1]\n",
      "ONE_HOT_ENCODED\n",
      "[[0. 1. 1. 1. 0. 0. 0. 1. 0. 1.]\n",
      " [0. 1. 0. 1. 0. 1. 0. 1. 0. 1.]\n",
      " [1. 0. 0. 1. 1. 0. 1. 1. 1. 1.]\n",
      " [0. 1. 1. 1. 0. 0. 1. 1. 0. 1.]]\n"
     ]
    }
   ],
   "source": [
    "#CONVERT DOCUMENT TERM FREQUENCY TO ONE HOT ENCODED VECTORS\n",
    "maxs=np.max(X,axis=0)\n",
    "ONE_HOT_ENCODED=np.ceil(X/maxs)\n",
    "print(\"MAX COUNT:\",maxs)\n",
    "print(\"ONE_HOT_ENCODED\")\n",
    "print(ONE_HOT_ENCODED)"
   ]
  },
  {
   "cell_type": "code",
   "execution_count": 10,
   "metadata": {},
   "outputs": [
    {
     "name": "stdout",
     "output_type": "stream",
     "text": [
      "--------------------------------------------\n",
      "DOC-i= 0 DOC-j= 0\n",
      "     CARTESIAN: 0.0\n",
      "     COSINE SIMILARITY: 1.0\n",
      "     COSINE DISTANCE: 0.0\n",
      "DOC-i= 0 DOC-j= 1\n",
      "     CARTESIAN: 1.7320508075688772\n",
      "     COSINE SIMILARITY: 0.7905694150420948\n",
      "     COSINE DISTANCE: 0.20943058495790523\n",
      "DOC-i= 0 DOC-j= 2\n",
      "     CARTESIAN: 3.7416573867739413\n",
      "     COSINE SIMILARITY: 0.34641016151377546\n",
      "     COSINE DISTANCE: 0.6535898384862245\n",
      "DOC-i= 0 DOC-j= 3\n",
      "     CARTESIAN: 2.0\n",
      "     COSINE SIMILARITY: 0.7453559924999299\n",
      "     COSINE DISTANCE: 0.2546440075000701\n",
      "DOC-i= 1 DOC-j= 1\n",
      "     CARTESIAN: 0.0\n",
      "     COSINE SIMILARITY: 0.9999999999999999\n",
      "     COSINE DISTANCE: 1.1102230246251565e-16\n",
      "DOC-i= 1 DOC-j= 2\n",
      "     CARTESIAN: 4.123105625617661\n",
      "     COSINE SIMILARITY: 0.27386127875258304\n",
      "     COSINE DISTANCE: 0.726138721247417\n",
      "DOC-i= 1 DOC-j= 3\n",
      "     CARTESIAN: 2.6457513110645907\n",
      "     COSINE SIMILARITY: 0.5892556509887895\n",
      "     COSINE DISTANCE: 0.4107443490112105\n",
      "DOC-i= 2 DOC-j= 2\n",
      "     CARTESIAN: 0.0\n",
      "     COSINE SIMILARITY: 0.9999999999999999\n",
      "     COSINE DISTANCE: 1.1102230246251565e-16\n",
      "DOC-i= 2 DOC-j= 3\n",
      "     CARTESIAN: 2.449489742783178\n",
      "     COSINE SIMILARITY: 0.7745966692414834\n",
      "     COSINE DISTANCE: 0.2254033307585166\n",
      "DOC-i= 3 DOC-j= 3\n",
      "     CARTESIAN: 0.0\n",
      "     COSINE SIMILARITY: 1.0\n",
      "     COSINE DISTANCE: 0.0\n",
      "--------------------------------------------\n"
     ]
    }
   ],
   "source": [
    "#------------------------\n",
    "# #COMPUTE PAIRWISE DISTANCES BETWEEN DOCUMENTS \n",
    "#------------------------\n",
    "\n",
    "print(\"--------------------------------------------\")\n",
    "#LOOP OVER ROWS (DOCUMENTS)\n",
    "for i in range(0,X.shape[0]):\n",
    "    # for j in range(i+1,len(X)):\n",
    "    for j in range(i,X.shape[0]):\n",
    "        print(\"DOC-i=\",i,\"DOC-j=\",j); #print(X[i,:]); print(X[j,:])\n",
    "        print(\"     CARTESIAN:\",(np.sum((X[i,:]-X[j,:])**2.0)**0.5))\n",
    "\n",
    "        #CARTESIAN DISTANCE\n",
    "        CS=np.dot(X[i,:],X[j,:])/np.linalg.norm(X[i,:])/np.linalg.norm(X[j,:])\n",
    "        print(\"     COSINE SIMILARITY:\",CS)\n",
    "        print(\"     COSINE DISTANCE:\",1.0-CS)\n",
    "print(\"--------------------------------------------\")\n"
   ]
  },
  {
   "cell_type": "code",
   "execution_count": 11,
   "metadata": {},
   "outputs": [
    {
     "name": "stdout",
     "output_type": "stream",
     "text": [
      "            and  document     first        is       one        second  \\\n",
      "0  5.304672e-06  1.000008  1.000002  1.000007  0.000005  5.138027e-06   \n",
      "1  6.782942e-06  2.000008  0.000010  1.000005  0.000005  1.000006e+00   \n",
      "2  1.000006e+00  0.000009  0.000005  1.000008  1.000003  5.633884e-06   \n",
      "3  8.823478e-09  1.000007  1.000005  1.000004  0.000009  9.216300e-07   \n",
      "\n",
      "       test       the     third      this  \n",
      "0  0.000002  1.000001  0.000003  1.000009  \n",
      "1  0.000007  1.000001  0.000006  1.000009  \n",
      "2  3.000008  1.000006  1.000005  1.000004  \n",
      "3  2.000009  1.000005  0.000003  1.000010  \n",
      "                and  document     first        is       one        second  \\\n",
      "count  4.000000e+00  4.000000  4.000000  4.000000  4.000000  4.000000e+00   \n",
      "mean   2.500045e-01  1.000008  0.500005  1.000006  0.250006  2.500043e-01   \n",
      "std    5.000010e-01  0.816496  0.577348  0.000002  0.499999  5.000009e-01   \n",
      "min    8.823478e-09  0.000009  0.000005  1.000004  0.000005  9.216300e-07   \n",
      "25%    3.980710e-06  0.750007  0.000009  1.000005  0.000005  4.083928e-06   \n",
      "50%    6.043807e-06  1.000008  0.500006  1.000006  0.000007  5.385955e-06   \n",
      "75%    2.500066e-01  1.250008  1.000003  1.000007  0.250008  2.500056e-01   \n",
      "max    1.000006e+00  2.000008  1.000005  1.000008  1.000003  1.000006e+00   \n",
      "\n",
      "           test       the     third      this  \n",
      "count  4.000000  4.000000  4.000000  4.000000  \n",
      "mean   1.250007  1.000003  0.250005  1.000008  \n",
      "std    1.500002  0.000003  0.500001  0.000003  \n",
      "min    0.000002  1.000001  0.000003  1.000004  \n",
      "25%    0.000006  1.000001  0.000003  1.000007  \n",
      "50%    1.000008  1.000003  0.000005  1.000009  \n",
      "75%    2.250009  1.000005  0.250006  1.000009  \n",
      "max    3.000008  1.000006  1.000005  1.000010  \n",
      "CORR=                and  document     first        is       one    second  \\\n",
      "and       1.000000 -0.816494 -0.577356  0.674959  1.000000 -0.333327   \n",
      "document -0.816494  1.000000  0.000003 -0.685146 -0.816497  0.816496   \n",
      "first    -0.577356  0.000003  1.000000 -0.200121 -0.577351 -0.577350   \n",
      "is        0.674959 -0.685146 -0.200121  1.000000  0.674955 -0.443878   \n",
      "one       1.000000 -0.816497 -0.577351  0.674955  1.000000 -0.333333   \n",
      "second   -0.333327  0.816496 -0.577350 -0.443878 -0.333333  1.000000   \n",
      "test      0.777774 -0.816496 -0.192452  0.216694  0.777780 -0.555555   \n",
      "the       0.594927 -0.648630 -0.113151 -0.060087  0.594934 -0.464277   \n",
      "third     1.000000 -0.816495 -0.577355  0.674957  1.000000 -0.333328   \n",
      "this     -0.986747  0.738401  0.664839 -0.718059 -0.986745  0.219056   \n",
      "\n",
      "              test       the     third      this  \n",
      "and       0.777774  0.594927  1.000000 -0.986747  \n",
      "document -0.816496 -0.648630 -0.816495  0.738401  \n",
      "first    -0.192452 -0.113151 -0.577355  0.664839  \n",
      "is        0.216694 -0.060087  0.674957 -0.718059  \n",
      "one       0.777780  0.594934  1.000000 -0.986745  \n",
      "second   -0.555555 -0.464277 -0.333328  0.219056  \n",
      "test      1.000000  0.961069  0.777776 -0.669373  \n",
      "the       0.961069  1.000000  0.594930 -0.469171  \n",
      "third     0.777776  0.594930  1.000000 -0.986746  \n",
      "this     -0.669373 -0.469171 -0.986746  1.000000  \n"
     ]
    },
    {
     "data": {
      "image/png": "[encoded data removed]",
      "text/plain": [
       "<Figure size 640x480 with 2 Axes>"
      ]
     },
     "metadata": {},
     "output_type": "display_data"
    }
   ],
   "source": [
    "\n",
    "#------------------------\n",
    "#PANDAS AND SEABORN STUFF\n",
    "#------------------------\n",
    "import pandas as pd\n",
    "import seaborn as sns\n",
    "import matplotlib.pyplot as plt\n",
    "\n",
    "noise=np.random.uniform(0,0.00001,X.shape) \n",
    "\n",
    "df=pd.DataFrame(noise+X, columns=col_names)\n",
    "#REORDER FROM MOST FREQUENT WORD IN CORPUS TO LEAST\n",
    "# MAX_WORD=min(len(SORTED_COL_NAME),5)\n",
    "# df=df[SORTED_COL_NAME[0:MAX_WORD]]\n",
    "print(df)\n",
    "\n",
    "print(df.describe())\n",
    "corr=df.corr()\n",
    "print(\"CORR=\",corr)\n",
    "\n",
    "# sns.pairplot(df, diag_kind='kde', kind=\"hist\")  # SLOWER\n",
    "# plt.show()\n",
    "\n",
    "# # Draw the heatmap with the mask and correct aspect ratio\n",
    "sns.heatmap(corr, vmax=1, center=0,\n",
    "            square=True, linewidths=.5, cbar_kws={\"shrink\": .5})\n",
    "plt.show()"
   ]
  }
 ],
 "metadata": {
  "kernelspec": {
   "display_name": "Python 3.10.6 ('ANLY501')",
   "language": "python",
   "name": "python3"
  },
  "language_info": {
   "codemirror_mode": {
    "name": "ipython",
    "version": 3
   },
   "file_extension": ".py",
   "mimetype": "text/x-python",
   "name": "python",
   "nbconvert_exporter": "python",
   "pygments_lexer": "ipython3",
   "version": "3.10.6"
  },
  "orig_nbformat": 4,
  "vscode": {
   "interpreter": {
    "hash": "8b99509343f58b5238b82254d4f767c9c788e2a2d44c001d79838f3f64bcef43"
   }
  }
 },
 "nbformat": 4,
 "nbformat_minor": 2
}
